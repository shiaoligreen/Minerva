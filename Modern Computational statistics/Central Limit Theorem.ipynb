
{
 "cells": [
  {
   "cell_type": "markdown",
   "metadata": {},
   "source": [
    "In the reading on Total Survey Error by the Roper Center (https://ropercenter.cornell.edu/support/polling-fundamentals-total-survey-error/), there is a table of 95% confidence\n",
    "intervals for sampling error in percentage values in survey results. This margin of error depends\n",
    "on both the number of people surveyed (the sampling size) and the observed outcome for a\n",
    "particular candidate (as a percentage). It turns out there is an error in this table.\n",
    "1. Using the normal approximation to the binomial distribution, confirm that the 95%\n",
    "confidence interval for the sampling error for sample size 1000 and percentage outcome\n",
    "10% is 2% (rounded to the nearest integer).\n",
    "2. Write a Python function for calculating the 95% confidence interval given any sample\n",
    "size and any percentage outcome. Use your function to calculate all the values in the\n",
    "Total Survey Error table rounded to the nearest integer. For which entries does your\n",
    "margin of error differ from the value in the table?"
   ]
  },
  {
   "cell_type": "code",
   "execution_count": 1,
   "metadata": {},
   "outputs": [
    {
     "name": "stdout",
     "output_type": "stream",
     "text": [
      "1.859419264179007\n",
      "Margin of error to nearest integer is 2\n"
     ]
    }
   ],
   "source": [
    "#import necessary packages\n",
    "import numpy as np\n",
    "import scipy.stats as stats\n",
    "import math\n",
    "\n",
    "#use Normal approximation to Binomial distribution\n",
    "#B(1000,0.10) ≈ N(100,90)\n",
    "\n",
    "#determine the margin of error for sample size = 1000 and percentage outcome = 10%\n",
    "margin = ((10*90)/1000)**0.5*1.96\n",
    "print(margin)\n",
    "print(\"Margin of error to nearest integer is \" + str(round(margin))) "
   ]
  },
  {
   "cell_type": "code",
   "execution_count": 2,
   "metadata": {},
   "outputs": [
    {
     "name": "stdout",
     "output_type": "stream",
     "text": [
      "      1,000    750    500    250    100\n",
      "--  -------  -----  -----  -----  -----\n",
      "10        2      2      3      4      6\n",
      "20        2      3      4      5      8\n",
      "30        3      3      4      6      9\n",
      "40        3      4      4      6     10\n",
      "50        3      4      4      6     10\n",
      "60        3      4      4      6     10\n",
      "70        3      3      4      6      9\n",
      "80        2      3      4      5      8\n",
      "90        2      2      3      4      6\n"
     ]
    }
   ],
   "source": [
    "#create arrays of the information needed to determine margin of error\n",
    "percentage = np.linspace(10,90,9)\n",
    "sample_size = [1000,750,500,250,100]\n",
    "\n",
    "#create an empty table to store calculations\n",
    "table = [np.zeros(5)for i in range(0,9)]\n",
    "\n",
    "#iterate through each element\n",
    "for i in range(0,len(percentage)):\n",
    "    for j in range(0,len(sample_size)):\n",
    "        #use the calculation for margin or error\n",
    "        table[i][j] = round(((percentage[i]*(100-percentage[i]))/sample_size[j])**0.5*1.96)\n",
    "\n",
    "#show the data in the same format as the article\n",
    "from tabulate import tabulate\n",
    "print(tabulate(table,headers=[\"1,000\",\"750\",\"500\",\"250\",\"100\"],showindex=[\"10\",\"20\",\"30\",\"40\",\"50\",\"60\",\"70\",\"80\",\"90\"]))"
   ]
  },
  {
   "cell_type": "code",
   "execution_count": 3,
   "metadata": {},
   "outputs": [
    {
     "data": {
      "image/png": "[encoded data removed]",
      "text/plain": [
       "<Figure size 432x288 with 1 Axes>"
      ]
     },
     "metadata": {
      "needs_background": "light"
     },
     "output_type": "display_data"
    }
   ],
   "source": [
    "#import plotting package\n",
    "import matplotlib.pyplot as plt\n",
    "%matplotlib inline\n",
    "\n",
    "#highlight where the differences occur in a table\n",
    "colors = [[\"w\",\"w\",\"w\",\"w\",\"w\"],[ \"#1ac3f5\",\"w\",\"w\",\"w\",\"#1ac3f5\"],[\"w\",\"#1ac3f5\",\"w\",\"w\",\"#1ac3f5\"],[\"w\",\"w\",\"#1ac3f5\",\"#1ac3f5\",\"w\"],[\"w\",\"w\",\"#1ac3f5\",\"#1ac3f5\",\"#1ac3f5\"],[\"w\",\"w\",\"#1ac3f5\",\"#1ac3f5\",\"w\"],[\"w\",\"#1ac3f5\",\"w\",\"w\",\"#1ac3f5\"],[\"#1ac3f5\",\"w\",\"w\",\"w\",\"#1ac3f5\"],[\"w\",\"w\",\"w\",\"w\",\"w\"]]\n",
    "fig, ax = plt.subplots()\n",
    "ax.axis('tight')\n",
    "ax.axis('off')\n",
    "the_table = ax.table(cellText=table,cellColours=colors,\n",
    "                     colLabels=[\"1,000\",\"750\",\"500\",\"250\",\"100\"],loc='center')\n",
    "plt.show()"
   ]
  }
 ],
 "metadata": {
  "kernelspec": {
   "display_name": "Python [default]",
   "language": "python",
   "name": "python3"
  },
  "language_info": {
   "codemirror_mode": {
    "name": "ipython",
    "version": 3
   },
   "file_extension": ".py",
   "mimetype": "text/x-python",
   "name": "python",
   "nbconvert_exporter": "python",
   "pygments_lexer": "ipython3",
   "version": "3.7.0"
  }
 },
 "nbformat": 4,
 "nbformat_minor": 2
}
